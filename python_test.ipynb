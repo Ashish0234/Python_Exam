{
 "cells": [
  {
   "cell_type": "markdown",
   "id": "17477c01",
   "metadata": {},
   "source": [
    "# ANSWER 1"
   ]
  },
  {
   "cell_type": "markdown",
   "id": "d433e9d9",
   "metadata": {},
   "source": [
    "1.Write a program that removes whitespace from the following strings, then print out the strings with the whitespace removed:"
   ]
  },
  {
   "cell_type": "code",
   "execution_count": 1,
   "id": "1239142d",
   "metadata": {},
   "outputs": [],
   "source": [
    "string1= \"    Filet Mignon\"\n",
    "string2= \"Brisket     \"\n",
    "string3=\"    Cheeseburger\""
   ]
  },
  {
   "cell_type": "code",
   "execution_count": 2,
   "id": "bba89098",
   "metadata": {},
   "outputs": [],
   "source": [
    "x=string1.replace(\" \",\"\")\n",
    "y=string2.replace(\" \",\"\")\n",
    "z=string3.replace(\" \",\"\")"
   ]
  },
  {
   "cell_type": "code",
   "execution_count": 3,
   "id": "70cebd1b",
   "metadata": {},
   "outputs": [
    {
     "name": "stdout",
     "output_type": "stream",
     "text": [
      "FiletMignon\n",
      "Brisket\n",
      "Cheeseburger\n"
     ]
    }
   ],
   "source": [
    "print(x)\n",
    "print(y)\n",
    "print(z)"
   ]
  },
  {
   "cell_type": "markdown",
   "id": "73e0af43",
   "metadata": {},
   "source": [
    "# ANSWER 2"
   ]
  },
  {
   "cell_type": "markdown",
   "id": "ef34a9e5",
   "metadata": {},
   "source": [
    "2.Write a program that takes input from the user and displays the input in uppercase."
   ]
  },
  {
   "cell_type": "code",
   "execution_count": 4,
   "id": "715bc76d",
   "metadata": {},
   "outputs": [
    {
     "name": "stdout",
     "output_type": "stream",
     "text": [
      "enter input:ashish\n",
      "ASHISH\n"
     ]
    }
   ],
   "source": [
    "input_string = input(\"enter input:\")\n",
    "print(input_string.upper())"
   ]
  },
  {
   "cell_type": "markdown",
   "id": "911d9e3f",
   "metadata": {},
   "source": [
    "# ANSWER 3"
   ]
  },
  {
   "cell_type": "markdown",
   "id": "f4ac7797",
   "metadata": {},
   "source": [
    "3.Write a program that takes input from the user and displays the number of characters in the input."
   ]
  },
  {
   "cell_type": "code",
   "execution_count": 3,
   "id": "ca9cb156",
   "metadata": {},
   "outputs": [
    {
     "name": "stdout",
     "output_type": "stream",
     "text": [
      "enter a string ASHISH KUMAR\n",
      "number of characters: 13\n"
     ]
    }
   ],
   "source": [
    "input_string = input(\"enter a string\")\n",
    "num = len(input_string)\n",
    "print(\"number of characters:\", num)"
   ]
  },
  {
   "cell_type": "markdown",
   "id": "14d1e75b",
   "metadata": {},
   "source": [
    "# ANSWER 4"
   ]
  },
  {
   "cell_type": "markdown",
   "id": "2c8262e9",
   "metadata": {},
   "source": [
    "4.Write a program that uses input() twice to get two numbers from the user, multiples the numbers together, and displays the result. If the user enters 2 and 4, then your program should print the following text:"
   ]
  },
  {
   "cell_type": "code",
   "execution_count": 5,
   "id": "37b325a2",
   "metadata": {},
   "outputs": [
    {
     "name": "stdout",
     "output_type": "stream",
     "text": [
      "first number: 2\n",
      "second number: 4\n",
      "the result of multiplying 2.0 and 4.0 is 8.0\n"
     ]
    }
   ],
   "source": [
    "num1 = float(input(\"first number: \"))\n",
    "num2 = float(input(\"second number: \"))\n",
    "result = num1 * num2\n",
    "print(f\"the result of multiplying {num1} and {num2} is {result}\")"
   ]
  },
  {
   "cell_type": "markdown",
   "id": "d3920422",
   "metadata": {},
   "source": [
    "# ANSWER 5"
   ]
  },
  {
   "cell_type": "markdown",
   "id": "1606c91c",
   "metadata": {},
   "source": [
    "5.Create a float object named weight with the value 0.2, and create a string object named animal with the value \"newt\". Then use these objects to print the following string using only string concatenation:"
   ]
  },
  {
   "cell_type": "code",
   "execution_count": 16,
   "id": "fb0bcfd9",
   "metadata": {},
   "outputs": [
    {
     "name": "stdout",
     "output_type": "stream",
     "text": [
      "0.2 kg is the weight of newt\n"
     ]
    }
   ],
   "source": [
    "weight=0.2\n",
    "\n",
    "animal = \"newt\"\n",
    "\n",
    "output = \"0.2 \" + \"kg is the weight of \" + animal \n",
    "\n",
    "print(output)"
   ]
  },
  {
   "cell_type": "markdown",
   "id": "f9b206b5",
   "metadata": {},
   "source": [
    "# ANSWER 6"
   ]
  },
  {
   "cell_type": "markdown",
   "id": "ae1887b0",
   "metadata": {},
   "source": [
    "6.Display the same string by using .format() and empty{} placeholders."
   ]
  },
  {
   "cell_type": "code",
   "execution_count": 17,
   "id": "960395f0",
   "metadata": {},
   "outputs": [
    {
     "name": "stdout",
     "output_type": "stream",
     "text": [
      "0.2 kg is the weight of newt \n"
     ]
    }
   ],
   "source": [
    "weight=0.2\n",
    "\n",
    "animal=\"newt\"\n",
    "\n",
    "output=\"{} kg is the weight of {} \".format(weight,animal)\n",
    "\n",
    "print(output)"
   ]
  },
  {
   "cell_type": "markdown",
   "id": "76b9bf80",
   "metadata": {},
   "source": [
    "# ANSWER 7"
   ]
  },
  {
   "cell_type": "markdown",
   "id": "c452feac",
   "metadata": {},
   "source": [
    "7.Display the same string using an f-string"
   ]
  },
  {
   "cell_type": "code",
   "execution_count": 19,
   "id": "699dfdb3",
   "metadata": {},
   "outputs": [
    {
     "name": "stdout",
     "output_type": "stream",
     "text": [
      "0.2 kg is the weight of newt.\n"
     ]
    }
   ],
   "source": [
    "weight=0.2\n",
    "\n",
    "animal=\"newt\"\n",
    "\n",
    "output=f\"{weight} kg is the weight of {animal}.\"\n",
    "\n",
    "print(output)"
   ]
  },
  {
   "cell_type": "markdown",
   "id": "ffad2f81",
   "metadata": {},
   "source": [
    "# ANSWER 8"
   ]
  },
  {
   "cell_type": "markdown",
   "id": "623e3b2c",
   "metadata": {},
   "source": [
    "8.How to add value to a python list?"
   ]
  },
  {
   "cell_type": "code",
   "execution_count": 22,
   "id": "fdbe9a95",
   "metadata": {},
   "outputs": [
    {
     "name": "stdout",
     "output_type": "stream",
     "text": [
      "[1, 2, 3, 4, 5]\n"
     ]
    }
   ],
   "source": [
    "list = [1, 2, 3]\n",
    "list.extend([4,5])\n",
    "print(list)"
   ]
  },
  {
   "cell_type": "markdown",
   "id": "4bd61ebe",
   "metadata": {},
   "source": [
    "# ANSWER 9"
   ]
  },
  {
   "cell_type": "markdown",
   "id": "9932b3c8",
   "metadata": {},
   "source": [
    "9.What will the following code output?\n",
    "Word='abcdefghij'\n",
    "Word[:3]+word[3:]"
   ]
  },
  {
   "cell_type": "code",
   "execution_count": 23,
   "id": "4e6420ce",
   "metadata": {},
   "outputs": [
    {
     "data": {
      "text/plain": [
       "'abcdefghij'"
      ]
     },
     "execution_count": 23,
     "metadata": {},
     "output_type": "execute_result"
    }
   ],
   "source": [
    "Word = 'abcdefghij'\n",
    "Word[:3] + Word[3:]"
   ]
  },
  {
   "cell_type": "markdown",
   "id": "dcf313fe",
   "metadata": {},
   "source": [
    "# ANSWER 10"
   ]
  },
  {
   "cell_type": "markdown",
   "id": "50310c05",
   "metadata": {},
   "source": [
    "10. How will you remove a dublicate element from a list?"
   ]
  },
  {
   "cell_type": "code",
   "execution_count": 1,
   "id": "492be11d",
   "metadata": {},
   "outputs": [
    {
     "name": "stdout",
     "output_type": "stream",
     "text": [
      "[1, 2, 3, 4]\n"
     ]
    }
   ],
   "source": [
    "ori_list=[1,2,1,3,4,2]\n",
    "\n",
    "new_list= list(set(ori_list))\n",
    "\n",
    "print(new_list)"
   ]
  },
  {
   "cell_type": "markdown",
   "id": "0f9f13f7",
   "metadata": {},
   "source": [
    "# ANSWER 11"
   ]
  },
  {
   "cell_type": "markdown",
   "id": "c0315cec",
   "metadata": {},
   "source": [
    "11.Write a Python program to add member(s) in a set."
   ]
  },
  {
   "cell_type": "code",
   "execution_count": 2,
   "id": "04078dc5",
   "metadata": {},
   "outputs": [
    {
     "name": "stdout",
     "output_type": "stream",
     "text": [
      "{1, 2, 3, 4}\n"
     ]
    }
   ],
   "source": [
    "my_set = set()\n",
    "\n",
    "my_set.add(1)\n",
    "\n",
    "my_set.update([2,3,4])\n",
    "\n",
    "print(my_set)"
   ]
  },
  {
   "cell_type": "markdown",
   "id": "97ad5827",
   "metadata": {},
   "source": [
    "# ANSWER 12"
   ]
  },
  {
   "cell_type": "markdown",
   "id": "40e369ee",
   "metadata": {},
   "source": [
    "12. Write a python program to remove an item from a set if it is present in  the set "
   ]
  },
  {
   "cell_type": "code",
   "execution_count": 4,
   "id": "e8bdc3ac",
   "metadata": {},
   "outputs": [
    {
     "name": "stdout",
     "output_type": "stream",
     "text": [
      "Resulting set: {1, 2, 4, 5}\n"
     ]
    }
   ],
   "source": [
    "my_set = {1,2,3,4,5}\n",
    "\n",
    "remove_item = 3\n",
    "\n",
    "my_set.discard(remove_item)\n",
    "\n",
    "print(\"Resulting set:\",my_set)"
   ]
  },
  {
   "cell_type": "markdown",
   "id": "3a4c479f",
   "metadata": {},
   "source": [
    "# ANSWER 13"
   ]
  },
  {
   "cell_type": "markdown",
   "id": "c7551464",
   "metadata": {},
   "source": [
    "13.Write a python program to create an intersection of sets\n",
    "   setx=set([\"green\",\"blue\"])\n",
    "   sety=set([\"blue\",\"yellow\"])"
   ]
  },
  {
   "cell_type": "code",
   "execution_count": 1,
   "id": "8cb78029",
   "metadata": {},
   "outputs": [
    {
     "name": "stdout",
     "output_type": "stream",
     "text": [
      "the intersectin of setx and sety is: {'blue'}\n"
     ]
    }
   ],
   "source": [
    "setx=set([\"green\",\"blue\"]) \n",
    "sety=set([\"blue\",\"yellow\"])\n",
    "\n",
    "intersection = setx.intersection(sety)\n",
    "\n",
    "print(\"the intersectin of setx and sety is:\",intersection)\n"
   ]
  },
  {
   "cell_type": "markdown",
   "id": "f9e86336",
   "metadata": {},
   "source": [
    "# ANSWER 14"
   ]
  },
  {
   "cell_type": "markdown",
   "id": "3a34e128",
   "metadata": {},
   "source": [
    "14.Write a program to remove all elements from a given set."
   ]
  },
  {
   "cell_type": "code",
   "execution_count": 5,
   "id": "77a75490",
   "metadata": {},
   "outputs": [
    {
     "name": "stdout",
     "output_type": "stream",
     "text": [
      "original_set: {'green', 'blue', 'yellow'}\n"
     ]
    }
   ],
   "source": [
    "my_set=set([\"green\",\"blue\",\"yellow\"]) \n",
    "\n",
    "print(\"original_set:\",my_set)"
   ]
  },
  {
   "cell_type": "code",
   "execution_count": 8,
   "id": "58672c98",
   "metadata": {},
   "outputs": [
    {
     "name": "stdout",
     "output_type": "stream",
     "text": [
      "Set after removing all element: set()\n"
     ]
    }
   ],
   "source": [
    "my_set.clear()\n",
    "\n",
    "print(\"Set after removing all element:\",my_set)"
   ]
  },
  {
   "cell_type": "markdown",
   "id": "f925f8d8",
   "metadata": {},
   "source": [
    "# ANSWER 15"
   ]
  },
  {
   "cell_type": "markdown",
   "id": "bc1e322e",
   "metadata": {},
   "source": [
    "15.Write a python program script to add a key to a dictionary"
   ]
  },
  {
   "cell_type": "code",
   "execution_count": 9,
   "id": "3b145167",
   "metadata": {},
   "outputs": [
    {
     "name": "stdout",
     "output_type": "stream",
     "text": [
      "original dict: {'name': 'ASHISH', 'age': '24'}\n"
     ]
    }
   ],
   "source": [
    "my_dict = {\"name\":\"ASHISH\",\"age\":\"24\"}\n",
    "\n",
    "print(\"original dict:\",my_dict)"
   ]
  },
  {
   "cell_type": "code",
   "execution_count": 11,
   "id": "e7c3eacd",
   "metadata": {},
   "outputs": [
    {
     "name": "stdout",
     "output_type": "stream",
     "text": [
      "dict after adding new key: {'name': 'ASHISH', 'age': '24', 'city': 'KOLKATA'}\n"
     ]
    }
   ],
   "source": [
    "my_dict[\"city\"]=\"KOLKATA\"\n",
    "\n",
    "print(\"dict after adding new key:\",my_dict)"
   ]
  },
  {
   "cell_type": "markdown",
   "id": "2fce0881",
   "metadata": {},
   "source": [
    "# ANSWER 16"
   ]
  },
  {
   "cell_type": "markdown",
   "id": "f568895b",
   "metadata": {},
   "source": [
    "Write a python program to concatenate following dictonaries to create a new one.\n",
    "dic1={1:10,2:20}\n",
    "dic2={3:30,4:40}\n",
    "dic3={5:50,6:60}"
   ]
  },
  {
   "cell_type": "code",
   "execution_count": 19,
   "id": "175bf431",
   "metadata": {},
   "outputs": [
    {
     "name": "stdout",
     "output_type": "stream",
     "text": [
      "new concatinated dictinary: {1: 10, 2: 20, 3: 30, 4: 40, 5: 50, 6: 60}\n"
     ]
    }
   ],
   "source": [
    "dic1={1:10,2:20} \n",
    "dic2={3:30,4:40} \n",
    "dic3={5:50,6:60}\n",
    "\n",
    "new_dict={**dic1,**dic2,**dic3}\n",
    "\n",
    "print(\"new concatinated dictinary:\",new_dict)"
   ]
  },
  {
   "cell_type": "markdown",
   "id": "ca2f9b6f",
   "metadata": {},
   "source": [
    "# ANSWER 17"
   ]
  },
  {
   "cell_type": "markdown",
   "id": "a93f8e9a",
   "metadata": {},
   "source": [
    "Write a python program to check wheather a given key already exists in a dictonary."
   ]
  },
  {
   "cell_type": "code",
   "execution_count": 20,
   "id": "1d1558a3",
   "metadata": {},
   "outputs": [
    {
     "name": "stdout",
     "output_type": "stream",
     "text": [
      "The key 'age' exists in the dictionary.\n",
      "The key 'country' does not exist in the dictionary.\n"
     ]
    }
   ],
   "source": [
    "my_dict = {\"name\": \"Alice\", \"age\": 25, \"city\": \"New York\"}\n",
    "\n",
    "def check_key_exists(dictionary, key):\n",
    "    if key in dictionary:\n",
    "        print(f\"The key '{key}' exists in the dictionary.\")\n",
    "    else:\n",
    "        print(f\"The key '{key}' does not exist in the dictionary.\")\n",
    "\n",
    "\n",
    "check_key_exists(my_dict, \"age\")\n",
    "check_key_exists(my_dict, \"country\")"
   ]
  },
  {
   "cell_type": "markdown",
   "id": "6465143a",
   "metadata": {},
   "source": [
    "# ANSWER 21"
   ]
  },
  {
   "cell_type": "markdown",
   "id": "336dc53e",
   "metadata": {},
   "source": [
    "21. Write a python program to find no of pairs in dict\n",
    "{a': 5, 'b': 14, 'C: 32, 'd': 35, 'e': 24, 'P: 100, 'g': 57, h': 8, 1. 100}               "
   ]
  },
  {
   "cell_type": "code",
   "execution_count": 5,
   "id": "bdaf85c1",
   "metadata": {},
   "outputs": [
    {
     "name": "stdout",
     "output_type": "stream",
     "text": [
      "the no of key value pair in the dictionary is: 9\n"
     ]
    }
   ],
   "source": [
    "dict={'a': 5,\n",
    "      'b': 14, \n",
    "      'C': 32, \n",
    "      'd': 35, \n",
    "      'e': 24, \n",
    "      'P': 100, \n",
    "      'g': 57, \n",
    "      'h': 8, \n",
    "      'i': 100\n",
    "     }\n",
    "\n",
    "num_pairs=len(dict)\n",
    "\n",
    "print(f\"the no of key value pair in the dictionary is: {num_pairs}\")"
   ]
  },
  {
   "cell_type": "code",
   "execution_count": null,
   "id": "a7412af2",
   "metadata": {},
   "outputs": [],
   "source": []
  }
 ],
 "metadata": {
  "kernelspec": {
   "display_name": "Python 3 (ipykernel)",
   "language": "python",
   "name": "python3"
  },
  "language_info": {
   "codemirror_mode": {
    "name": "ipython",
    "version": 3
   },
   "file_extension": ".py",
   "mimetype": "text/x-python",
   "name": "python",
   "nbconvert_exporter": "python",
   "pygments_lexer": "ipython3",
   "version": "3.11.5"
  }
 },
 "nbformat": 4,
 "nbformat_minor": 5
}
