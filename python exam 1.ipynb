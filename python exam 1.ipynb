{
 "cells": [
  {
   "cell_type": "markdown",
   "id": "04166e80",
   "metadata": {},
   "source": [
    "# ans-1"
   ]
  },
  {
   "cell_type": "code",
   "execution_count": 1,
   "id": "7f2a46ce",
   "metadata": {},
   "outputs": [],
   "source": [
    "string1 = \"       Filet Mignon\" \n",
    "string2 = \"Brisket         \" \n",
    "string3 = \"     Cheeseburger      \""
   ]
  },
  {
   "cell_type": "code",
   "execution_count": 2,
   "id": "a8edadf1",
   "metadata": {},
   "outputs": [],
   "source": [
    "x=string1.replace(\" \",\"\")\n",
    "y=string2.replace(\" \",\"\")\n",
    "z=string3.replace(\" \",\"\")"
   ]
  },
  {
   "cell_type": "code",
   "execution_count": 3,
   "id": "613ca605",
   "metadata": {},
   "outputs": [
    {
     "name": "stdout",
     "output_type": "stream",
     "text": [
      "FiletMignon\n",
      "Brisket\n",
      "Cheeseburger\n"
     ]
    }
   ],
   "source": [
    "print(x)\n",
    "print(y)\n",
    "print(z)"
   ]
  },
  {
   "cell_type": "markdown",
   "id": "98c2881e",
   "metadata": {},
   "source": [
    "# ans-2"
   ]
  },
  {
   "cell_type": "code",
   "execution_count": 4,
   "id": "eb1c9d21",
   "metadata": {},
   "outputs": [
    {
     "name": "stdout",
     "output_type": "stream",
     "text": [
      "enter input:believe in yourself\n",
      "BELIEVE IN YOURSELF\n"
     ]
    }
   ],
   "source": [
    "input_string=input(\"enter input:\")\n",
    "print(input_string.upper())"
   ]
  },
  {
   "cell_type": "markdown",
   "id": "ccace8fd",
   "metadata": {},
   "source": [
    "# ans-8"
   ]
  },
  {
   "cell_type": "code",
   "execution_count": 12,
   "id": "e5cec6f1",
   "metadata": {},
   "outputs": [
    {
     "name": "stdout",
     "output_type": "stream",
     "text": [
      "[1, 2, 3, 4, 5]\n"
     ]
    }
   ],
   "source": [
    "my_list=[1,2,3]\n",
    "my_list.extend([4,5])\n",
    "print(my_list)"
   ]
  },
  {
   "cell_type": "markdown",
   "id": "7c7c7c01",
   "metadata": {},
   "source": [
    "# ans-3"
   ]
  },
  {
   "cell_type": "code",
   "execution_count": 18,
   "id": "fbb0e39f",
   "metadata": {},
   "outputs": [
    {
     "name": "stdout",
     "output_type": "stream",
     "text": [
      "enter a string:ashish kumar\n",
      "Number of characters: 12\n"
     ]
    }
   ],
   "source": [
    "x=input(\"enter a string:\")\n",
    "num_characters=len(x)\n",
    "print(\"Number of characters:\", num_characters)"
   ]
  },
  {
   "cell_type": "code",
   "execution_count": null,
   "id": "177b8ee5",
   "metadata": {},
   "outputs": [],
   "source": []
  }
 ],
 "metadata": {
  "kernelspec": {
   "display_name": "Python 3 (ipykernel)",
   "language": "python",
   "name": "python3"
  },
  "language_info": {
   "codemirror_mode": {
    "name": "ipython",
    "version": 3
   },
   "file_extension": ".py",
   "mimetype": "text/x-python",
   "name": "python",
   "nbconvert_exporter": "python",
   "pygments_lexer": "ipython3",
   "version": "3.11.5"
  }
 },
 "nbformat": 4,
 "nbformat_minor": 5
}
